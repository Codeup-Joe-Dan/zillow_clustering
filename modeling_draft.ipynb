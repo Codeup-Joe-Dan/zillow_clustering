{
 "cells": [
  {
   "cell_type": "code",
   "execution_count": 2,
   "id": "1d06dad8",
   "metadata": {},
   "outputs": [],
   "source": [
    "import wrangle\n",
    "import pandas as pd\n",
    "import numpy as np\n",
    "\n",
    "import seaborn as sns\n",
    "import matplotlib.pyplot as plt\n",
    "\n",
    "import warnings\n",
    "warnings.filterwarnings(\"ignore\")\n",
    "\n",
    "import sklearn.preprocessing."
   ]
  },
  {
   "cell_type": "code",
   "execution_count": 3,
   "id": "c374f947",
   "metadata": {},
   "outputs": [],
   "source": [
    "df = wrangle.get_zillow()\n",
    "df = wrangle.prep_zillow(df)\n",
    "df = wrangle.remove_outliers(df)\n"
   ]
  },
  {
   "cell_type": "code",
   "execution_count": 4,
   "id": "cd8c7a45",
   "metadata": {},
   "outputs": [],
   "source": [
    "train, validate, test = wrangle.my_split(df)"
   ]
  },
  {
   "cell_type": "code",
   "execution_count": null,
   "id": "8a4ebece",
   "metadata": {},
   "outputs": [],
   "source": []
  },
  {
   "cell_type": "code",
   "execution_count": null,
   "id": "6865a64c",
   "metadata": {},
   "outputs": [],
   "source": []
  },
  {
   "cell_type": "code",
   "execution_count": null,
   "id": "15bda29b",
   "metadata": {},
   "outputs": [],
   "source": []
  },
  {
   "cell_type": "code",
   "execution_count": null,
   "id": "7a0a4e48",
   "metadata": {},
   "outputs": [],
   "source": []
  },
  {
   "cell_type": "code",
   "execution_count": null,
   "id": "4bff68c7",
   "metadata": {},
   "outputs": [],
   "source": []
  },
  {
   "cell_type": "code",
   "execution_count": 5,
   "id": "235d9f5f",
   "metadata": {},
   "outputs": [],
   "source": [
    "def predict_baseline(train):\n",
    "    '''\n",
    "    Function to calculate the RMSE for the mean and median logerror of zillow properties\n",
    "    accepts train dataframe, displays a table of formatted results, and returns a results table\n",
    "    '''\n",
    "\n",
    "    # create y_train and y_validate\n",
    "    y_train = train['logerror']\n",
    "        \n",
    "    y_train = pd.DataFrame(y_train)\n",
    "    \n",
    "    value_pred_mean = y_train['logerror'].mean()\n",
    "    y_train['value_pred_mean'] = value_pred_mean\n",
    "\n",
    "    # compute value_pred_median\n",
    "    value_pred_median = y_train['logerror'].median()\n",
    "    y_train['value_pred_median'] = value_pred_median\n",
    "\n",
    "    # RMSE of value_pred_mean\n",
    "    rmse_train = mean_squared_error(y_train.logerror, y_train.value_pred_mean)**(1/2)\n",
    "\n",
    "    results = pd.DataFrame(columns = ['model', 'RMSE_train', 'RMSE_validate', 'R2'])\n",
    "    newresult = ['Mean','${:,.2f}'.format(rmse_train),'N/A', 'N/A']\n",
    "    results.loc[len(results)] = newresult\n",
    "\n",
    "    # RMSE of value_pred_median\n",
    "    rmse_train = mean_squared_error(y_train.logerror, y_train.value_pred_median)**(1/2)\n",
    "\n",
    "    # create and display tabular formatted data\n",
    "    newresult = ['Median','${:,.2f}'.format(rmse_train),'N/A', 'N/A']\n",
    "    results.loc[len(results)] = newresult\n",
    "\n",
    "    df_style = results.style.set_table_attributes(\"style='display:inline; margin-right:100px;'\").set_caption(\"RESULTS\")\n",
    "    display_html(df_style._repr_html_(), raw=True)\n",
    "\n",
    "    return results"
   ]
  },
  {
   "cell_type": "code",
   "execution_count": 6,
   "id": "949b266a",
   "metadata": {},
   "outputs": [],
   "source": [
    "def LRmodel(model, X_train, y_train, X_2, y_2):\n",
    "    '''\n",
    "    Function to fit a model, make predictions on two sets of data, and return a \n",
    "    row of evaluation data\n",
    "    Accepts: a model (not fit)\n",
    "             a dataframe of X_train data that will be used to fit the model\n",
    "             a dataframe of y_train data that will be used to fit the model\n",
    "             a second dataframe of X data (can be validate or test) to make predictions\n",
    "             a second dataframe of y data (can be validate or test) to evaluate predictions\n",
    "    Returns: a list containing the model, the RMSE for train data, the RMSE of the second dataset,\n",
    "             and the R2 score of the second dataset\n",
    "    '''\n",
    "    # fit the model object\n",
    "    model.fit(X_train, y_train)\n",
    "\n",
    "    # predict train\n",
    "    yhat_train = model.predict(X_train)\n",
    "    yhat_2 = model.predict(X_2)\n",
    "\n",
    "    # evaluate: rmse for train\n",
    "    rmse_train = mean_squared_error(y_train, yhat_train)**(1/2)\n",
    "\n",
    "    # evaluate: rmse for validate (or test if that is what is sent to the function)\n",
    "    rmse_2 = mean_squared_error(y_2, yhat_2)**(1/2)\n",
    "\n",
    "    # format results and save as a list that will be returned\n",
    "    newresult = [model,'${:,.2f}'.format(rmse_train),'${:,.2f}'.format(rmse_2), round(r2_score(y_2, yhat_2),4)]\n",
    "\n",
    "    return newresult"
   ]
  },
  {
   "cell_type": "code",
   "execution_count": null,
   "id": "71e5dd5e",
   "metadata": {},
   "outputs": [],
   "source": []
  }
 ],
 "metadata": {
  "kernelspec": {
   "display_name": "Python 3 (ipykernel)",
   "language": "python",
   "name": "python3"
  },
  "language_info": {
   "codemirror_mode": {
    "name": "ipython",
    "version": 3
   },
   "file_extension": ".py",
   "mimetype": "text/x-python",
   "name": "python",
   "nbconvert_exporter": "python",
   "pygments_lexer": "ipython3",
   "version": "3.9.12"
  }
 },
 "nbformat": 4,
 "nbformat_minor": 5
}
