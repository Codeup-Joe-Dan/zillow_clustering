{
 "cells": [
  {
   "cell_type": "code",
   "execution_count": 7,
   "id": "018e6e1f",
   "metadata": {},
   "outputs": [],
   "source": [
    "import wrangle\n",
    "import pandas as pd\n",
    "import numpy as np\n",
    "\n",
    "import seaborn as sns\n",
    "import matplotlib.pyplot as plt\n",
    "\n",
    "import warnings\n",
    "warnings.filterwarnings(\"ignore\")\n",
    "\n",
    "pd.options.display.float_format = '{:20,.2f}'.format"
   ]
  },
  {
   "cell_type": "code",
   "execution_count": 8,
   "id": "aa977856",
   "metadata": {},
   "outputs": [],
   "source": [
    "df = wrangle.get_zillow()\n",
    "df = wrangle.prep_zillow(df)\n",
    "df = wrangle.remove_outliers(df)"
   ]
  },
  {
   "cell_type": "code",
   "execution_count": 41,
   "id": "f9fa04ab",
   "metadata": {
    "scrolled": false
   },
   "outputs": [
    {
     "data": {
      "text/html": [
       "<div>\n",
       "<style scoped>\n",
       "    .dataframe tbody tr th:only-of-type {\n",
       "        vertical-align: middle;\n",
       "    }\n",
       "\n",
       "    .dataframe tbody tr th {\n",
       "        vertical-align: top;\n",
       "    }\n",
       "\n",
       "    .dataframe thead th {\n",
       "        text-align: right;\n",
       "    }\n",
       "</style>\n",
       "<table border=\"1\" class=\"dataframe\">\n",
       "  <thead>\n",
       "    <tr style=\"text-align: right;\">\n",
       "      <th></th>\n",
       "      <th>count</th>\n",
       "      <th>mean</th>\n",
       "      <th>std</th>\n",
       "      <th>min</th>\n",
       "      <th>25%</th>\n",
       "      <th>50%</th>\n",
       "      <th>75%</th>\n",
       "      <th>max</th>\n",
       "    </tr>\n",
       "  </thead>\n",
       "  <tbody>\n",
       "    <tr>\n",
       "      <th>parcelid</th>\n",
       "      <td>46,983.00</td>\n",
       "      <td>12,972,159.09</td>\n",
       "      <td>2,213,462.46</td>\n",
       "      <td>10,711,855.00</td>\n",
       "      <td>11,529,375.00</td>\n",
       "      <td>12,616,765.00</td>\n",
       "      <td>14,123,093.50</td>\n",
       "      <td>162,960,814.00</td>\n",
       "    </tr>\n",
       "    <tr>\n",
       "      <th>bathrooms</th>\n",
       "      <td>46,983.00</td>\n",
       "      <td>2.16</td>\n",
       "      <td>0.82</td>\n",
       "      <td>1.00</td>\n",
       "      <td>2.00</td>\n",
       "      <td>2.00</td>\n",
       "      <td>3.00</td>\n",
       "      <td>5.50</td>\n",
       "    </tr>\n",
       "    <tr>\n",
       "      <th>bedrooms</th>\n",
       "      <td>46,983.00</td>\n",
       "      <td>3.24</td>\n",
       "      <td>0.87</td>\n",
       "      <td>1.00</td>\n",
       "      <td>3.00</td>\n",
       "      <td>3.00</td>\n",
       "      <td>4.00</td>\n",
       "      <td>6.00</td>\n",
       "    </tr>\n",
       "    <tr>\n",
       "      <th>sqft</th>\n",
       "      <td>46,983.00</td>\n",
       "      <td>1,763.71</td>\n",
       "      <td>713.92</td>\n",
       "      <td>152.00</td>\n",
       "      <td>1,244.00</td>\n",
       "      <td>1,597.00</td>\n",
       "      <td>2,136.00</td>\n",
       "      <td>5,363.00</td>\n",
       "    </tr>\n",
       "    <tr>\n",
       "      <th>fullbathcnt</th>\n",
       "      <td>46,983.00</td>\n",
       "      <td>2.10</td>\n",
       "      <td>0.80</td>\n",
       "      <td>1.00</td>\n",
       "      <td>2.00</td>\n",
       "      <td>2.00</td>\n",
       "      <td>3.00</td>\n",
       "      <td>5.00</td>\n",
       "    </tr>\n",
       "    <tr>\n",
       "      <th>latitude</th>\n",
       "      <td>46,983.00</td>\n",
       "      <td>34.02</td>\n",
       "      <td>0.27</td>\n",
       "      <td>33.34</td>\n",
       "      <td>33.83</td>\n",
       "      <td>34.01</td>\n",
       "      <td>34.19</td>\n",
       "      <td>34.72</td>\n",
       "    </tr>\n",
       "    <tr>\n",
       "      <th>garagecarcnt</th>\n",
       "      <td>46,983.00</td>\n",
       "      <td>0.66</td>\n",
       "      <td>0.94</td>\n",
       "      <td>0.00</td>\n",
       "      <td>0.00</td>\n",
       "      <td>0.00</td>\n",
       "      <td>2.00</td>\n",
       "      <td>9.00</td>\n",
       "    </tr>\n",
       "    <tr>\n",
       "      <th>garagesqft</th>\n",
       "      <td>46,983.00</td>\n",
       "      <td>167.10</td>\n",
       "      <td>239.13</td>\n",
       "      <td>0.00</td>\n",
       "      <td>0.00</td>\n",
       "      <td>0.00</td>\n",
       "      <td>430.00</td>\n",
       "      <td>2,720.00</td>\n",
       "    </tr>\n",
       "    <tr>\n",
       "      <th>longitude</th>\n",
       "      <td>46,983.00</td>\n",
       "      <td>-118.19</td>\n",
       "      <td>0.35</td>\n",
       "      <td>-119.48</td>\n",
       "      <td>-118.39</td>\n",
       "      <td>-118.14</td>\n",
       "      <td>-117.93</td>\n",
       "      <td>-117.55</td>\n",
       "    </tr>\n",
       "    <tr>\n",
       "      <th>lotsize</th>\n",
       "      <td>46,983.00</td>\n",
       "      <td>7,226.95</td>\n",
       "      <td>3,190.01</td>\n",
       "      <td>236.00</td>\n",
       "      <td>5,472.00</td>\n",
       "      <td>6,650.00</td>\n",
       "      <td>8,100.00</td>\n",
       "      <td>21,510.00</td>\n",
       "    </tr>\n",
       "    <tr>\n",
       "      <th>poolcnt</th>\n",
       "      <td>46,983.00</td>\n",
       "      <td>0.19</td>\n",
       "      <td>0.39</td>\n",
       "      <td>0.00</td>\n",
       "      <td>0.00</td>\n",
       "      <td>0.00</td>\n",
       "      <td>0.00</td>\n",
       "      <td>1.00</td>\n",
       "    </tr>\n",
       "    <tr>\n",
       "      <th>fireplacecnt</th>\n",
       "      <td>46,983.00</td>\n",
       "      <td>0.16</td>\n",
       "      <td>0.43</td>\n",
       "      <td>0.00</td>\n",
       "      <td>0.00</td>\n",
       "      <td>0.00</td>\n",
       "      <td>0.00</td>\n",
       "      <td>4.00</td>\n",
       "    </tr>\n",
       "    <tr>\n",
       "      <th>tract</th>\n",
       "      <td>46,983.00</td>\n",
       "      <td>3,060.74</td>\n",
       "      <td>2,799.90</td>\n",
       "      <td>2.00</td>\n",
       "      <td>748.00</td>\n",
       "      <td>2,017.00</td>\n",
       "      <td>5,306.00</td>\n",
       "      <td>9,800.00</td>\n",
       "    </tr>\n",
       "    <tr>\n",
       "      <th>regionidzip</th>\n",
       "      <td>46,983.00</td>\n",
       "      <td>96,566.77</td>\n",
       "      <td>417.74</td>\n",
       "      <td>95,982.00</td>\n",
       "      <td>96,212.00</td>\n",
       "      <td>96,415.00</td>\n",
       "      <td>96,996.00</td>\n",
       "      <td>97,344.00</td>\n",
       "    </tr>\n",
       "    <tr>\n",
       "      <th>structuretaxvalue</th>\n",
       "      <td>46,983.00</td>\n",
       "      <td>153,357.50</td>\n",
       "      <td>113,297.41</td>\n",
       "      <td>148.00</td>\n",
       "      <td>73,500.00</td>\n",
       "      <td>122,829.00</td>\n",
       "      <td>199,980.50</td>\n",
       "      <td>677,056.00</td>\n",
       "    </tr>\n",
       "    <tr>\n",
       "      <th>taxvalue</th>\n",
       "      <td>46,983.00</td>\n",
       "      <td>406,692.77</td>\n",
       "      <td>293,856.62</td>\n",
       "      <td>3,254.00</td>\n",
       "      <td>182,185.50</td>\n",
       "      <td>350,261.00</td>\n",
       "      <td>553,963.00</td>\n",
       "      <td>1,768,147.00</td>\n",
       "    </tr>\n",
       "    <tr>\n",
       "      <th>landtaxvalue</th>\n",
       "      <td>46,983.00</td>\n",
       "      <td>253,335.27</td>\n",
       "      <td>221,049.29</td>\n",
       "      <td>2,250.00</td>\n",
       "      <td>69,006.50</td>\n",
       "      <td>203,050.00</td>\n",
       "      <td>369,000.00</td>\n",
       "      <td>1,219,712.00</td>\n",
       "    </tr>\n",
       "    <tr>\n",
       "      <th>taxamount</th>\n",
       "      <td>46,983.00</td>\n",
       "      <td>5,026.18</td>\n",
       "      <td>3,392.84</td>\n",
       "      <td>49.18</td>\n",
       "      <td>2,543.81</td>\n",
       "      <td>4,393.52</td>\n",
       "      <td>6,629.05</td>\n",
       "      <td>19,668.41</td>\n",
       "    </tr>\n",
       "    <tr>\n",
       "      <th>logerror</th>\n",
       "      <td>46,983.00</td>\n",
       "      <td>0.02</td>\n",
       "      <td>0.17</td>\n",
       "      <td>-4.66</td>\n",
       "      <td>-0.02</td>\n",
       "      <td>0.01</td>\n",
       "      <td>0.04</td>\n",
       "      <td>3.18</td>\n",
       "    </tr>\n",
       "    <tr>\n",
       "      <th>age</th>\n",
       "      <td>46,983.00</td>\n",
       "      <td>59.79</td>\n",
       "      <td>22.36</td>\n",
       "      <td>6.00</td>\n",
       "      <td>45.00</td>\n",
       "      <td>62.00</td>\n",
       "      <td>72.00</td>\n",
       "      <td>144.00</td>\n",
       "    </tr>\n",
       "    <tr>\n",
       "      <th>Los Angeles</th>\n",
       "      <td>46,983.00</td>\n",
       "      <td>0.64</td>\n",
       "      <td>0.48</td>\n",
       "      <td>0.00</td>\n",
       "      <td>0.00</td>\n",
       "      <td>1.00</td>\n",
       "      <td>1.00</td>\n",
       "      <td>1.00</td>\n",
       "    </tr>\n",
       "    <tr>\n",
       "      <th>Orange</th>\n",
       "      <td>46,983.00</td>\n",
       "      <td>0.27</td>\n",
       "      <td>0.45</td>\n",
       "      <td>0.00</td>\n",
       "      <td>0.00</td>\n",
       "      <td>0.00</td>\n",
       "      <td>1.00</td>\n",
       "      <td>1.00</td>\n",
       "    </tr>\n",
       "    <tr>\n",
       "      <th>Ventura</th>\n",
       "      <td>46,983.00</td>\n",
       "      <td>0.08</td>\n",
       "      <td>0.28</td>\n",
       "      <td>0.00</td>\n",
       "      <td>0.00</td>\n",
       "      <td>0.00</td>\n",
       "      <td>0.00</td>\n",
       "      <td>1.00</td>\n",
       "    </tr>\n",
       "    <tr>\n",
       "      <th>abserror</th>\n",
       "      <td>28,189.00</td>\n",
       "      <td>0.07</td>\n",
       "      <td>0.16</td>\n",
       "      <td>0.00</td>\n",
       "      <td>0.01</td>\n",
       "      <td>0.03</td>\n",
       "      <td>0.07</td>\n",
       "      <td>4.66</td>\n",
       "    </tr>\n",
       "  </tbody>\n",
       "</table>\n",
       "</div>"
      ],
      "text/plain": [
       "                                 count                 mean  \\\n",
       "parcelid                     46,983.00        12,972,159.09   \n",
       "bathrooms                    46,983.00                 2.16   \n",
       "bedrooms                     46,983.00                 3.24   \n",
       "sqft                         46,983.00             1,763.71   \n",
       "fullbathcnt                  46,983.00                 2.10   \n",
       "latitude                     46,983.00                34.02   \n",
       "garagecarcnt                 46,983.00                 0.66   \n",
       "garagesqft                   46,983.00               167.10   \n",
       "longitude                    46,983.00              -118.19   \n",
       "lotsize                      46,983.00             7,226.95   \n",
       "poolcnt                      46,983.00                 0.19   \n",
       "fireplacecnt                 46,983.00                 0.16   \n",
       "tract                        46,983.00             3,060.74   \n",
       "regionidzip                  46,983.00            96,566.77   \n",
       "structuretaxvalue            46,983.00           153,357.50   \n",
       "taxvalue                     46,983.00           406,692.77   \n",
       "landtaxvalue                 46,983.00           253,335.27   \n",
       "taxamount                    46,983.00             5,026.18   \n",
       "logerror                     46,983.00                 0.02   \n",
       "age                          46,983.00                59.79   \n",
       "Los Angeles                  46,983.00                 0.64   \n",
       "Orange                       46,983.00                 0.27   \n",
       "Ventura                      46,983.00                 0.08   \n",
       "abserror                     28,189.00                 0.07   \n",
       "\n",
       "                                   std                  min  \\\n",
       "parcelid                  2,213,462.46        10,711,855.00   \n",
       "bathrooms                         0.82                 1.00   \n",
       "bedrooms                          0.87                 1.00   \n",
       "sqft                            713.92               152.00   \n",
       "fullbathcnt                       0.80                 1.00   \n",
       "latitude                          0.27                33.34   \n",
       "garagecarcnt                      0.94                 0.00   \n",
       "garagesqft                      239.13                 0.00   \n",
       "longitude                         0.35              -119.48   \n",
       "lotsize                       3,190.01               236.00   \n",
       "poolcnt                           0.39                 0.00   \n",
       "fireplacecnt                      0.43                 0.00   \n",
       "tract                         2,799.90                 2.00   \n",
       "regionidzip                     417.74            95,982.00   \n",
       "structuretaxvalue           113,297.41               148.00   \n",
       "taxvalue                    293,856.62             3,254.00   \n",
       "landtaxvalue                221,049.29             2,250.00   \n",
       "taxamount                     3,392.84                49.18   \n",
       "logerror                          0.17                -4.66   \n",
       "age                              22.36                 6.00   \n",
       "Los Angeles                       0.48                 0.00   \n",
       "Orange                            0.45                 0.00   \n",
       "Ventura                           0.28                 0.00   \n",
       "abserror                          0.16                 0.00   \n",
       "\n",
       "                                   25%                  50%  \\\n",
       "parcelid                 11,529,375.00        12,616,765.00   \n",
       "bathrooms                         2.00                 2.00   \n",
       "bedrooms                          3.00                 3.00   \n",
       "sqft                          1,244.00             1,597.00   \n",
       "fullbathcnt                       2.00                 2.00   \n",
       "latitude                         33.83                34.01   \n",
       "garagecarcnt                      0.00                 0.00   \n",
       "garagesqft                        0.00                 0.00   \n",
       "longitude                      -118.39              -118.14   \n",
       "lotsize                       5,472.00             6,650.00   \n",
       "poolcnt                           0.00                 0.00   \n",
       "fireplacecnt                      0.00                 0.00   \n",
       "tract                           748.00             2,017.00   \n",
       "regionidzip                  96,212.00            96,415.00   \n",
       "structuretaxvalue            73,500.00           122,829.00   \n",
       "taxvalue                    182,185.50           350,261.00   \n",
       "landtaxvalue                 69,006.50           203,050.00   \n",
       "taxamount                     2,543.81             4,393.52   \n",
       "logerror                         -0.02                 0.01   \n",
       "age                              45.00                62.00   \n",
       "Los Angeles                       0.00                 1.00   \n",
       "Orange                            0.00                 0.00   \n",
       "Ventura                           0.00                 0.00   \n",
       "abserror                          0.01                 0.03   \n",
       "\n",
       "                                   75%                  max  \n",
       "parcelid                 14,123,093.50       162,960,814.00  \n",
       "bathrooms                         3.00                 5.50  \n",
       "bedrooms                          4.00                 6.00  \n",
       "sqft                          2,136.00             5,363.00  \n",
       "fullbathcnt                       3.00                 5.00  \n",
       "latitude                         34.19                34.72  \n",
       "garagecarcnt                      2.00                 9.00  \n",
       "garagesqft                      430.00             2,720.00  \n",
       "longitude                      -117.93              -117.55  \n",
       "lotsize                       8,100.00            21,510.00  \n",
       "poolcnt                           0.00                 1.00  \n",
       "fireplacecnt                      0.00                 4.00  \n",
       "tract                         5,306.00             9,800.00  \n",
       "regionidzip                  96,996.00            97,344.00  \n",
       "structuretaxvalue           199,980.50           677,056.00  \n",
       "taxvalue                    553,963.00         1,768,147.00  \n",
       "landtaxvalue                369,000.00         1,219,712.00  \n",
       "taxamount                     6,629.05            19,668.41  \n",
       "logerror                          0.04                 3.18  \n",
       "age                              72.00               144.00  \n",
       "Los Angeles                       1.00                 1.00  \n",
       "Orange                            1.00                 1.00  \n",
       "Ventura                           0.00                 1.00  \n",
       "abserror                          0.07                 4.66  "
      ]
     },
     "execution_count": 41,
     "metadata": {},
     "output_type": "execute_result"
    }
   ],
   "source": [
    "df.describe().T"
   ]
  },
  {
   "cell_type": "code",
   "execution_count": 28,
   "id": "4143ff67",
   "metadata": {},
   "outputs": [],
   "source": [
    "df['abserror'] = abs(train.logerror)"
   ]
  },
  {
   "cell_type": "code",
   "execution_count": 29,
   "id": "356833c3",
   "metadata": {},
   "outputs": [
    {
     "data": {
      "text/plain": [
       "<AxesSubplot:>"
      ]
     },
     "execution_count": 29,
     "metadata": {},
     "output_type": "execute_result"
    },
    {
     "data": {
      "image/png": "[encoded data removed]",
      "text/plain": [
       "<Figure size 432x288 with 1 Axes>"
      ]
     },
     "metadata": {
      "needs_background": "light"
     },
     "output_type": "display_data"
    }
   ],
   "source": [
    "df.logerror.hist()"
   ]
  },
  {
   "cell_type": "code",
   "execution_count": 34,
   "id": "fd776a97",
   "metadata": {},
   "outputs": [
    {
     "data": {
      "text/plain": [
       "<AxesSubplot:>"
      ]
     },
     "execution_count": 34,
     "metadata": {},
     "output_type": "execute_result"
    },
    {
     "data": {
      "image/png": "[encoded data removed]",
      "text/plain": [
       "<Figure size 432x288 with 1 Axes>"
      ]
     },
     "metadata": {
      "needs_background": "light"
     },
     "output_type": "display_data"
    }
   ],
   "source": [
    "df.abserror.hist(bins=30)"
   ]
  },
  {
   "cell_type": "code",
   "execution_count": 35,
   "id": "95a063ea",
   "metadata": {},
   "outputs": [],
   "source": [
    "train, validate, test = wrangle.my_split(df)"
   ]
  },
  {
   "cell_type": "markdown",
   "id": "37eea570",
   "metadata": {},
   "source": [
    "## is the (abs) log error for large garages significantly larger than the log error of all properties?"
   ]
  },
  {
   "cell_type": "code",
   "execution_count": 27,
   "id": "3cb924b4",
   "metadata": {},
   "outputs": [
    {
     "data": {
      "text/plain": [
       "0.032169719433884574"
      ]
     },
     "execution_count": 27,
     "metadata": {},
     "output_type": "execute_result"
    }
   ],
   "source": [
    "train[train.garagesqft > 800].abserror.mean()"
   ]
  },
  {
   "cell_type": "code",
   "execution_count": 37,
   "id": "c6afa66e",
   "metadata": {},
   "outputs": [
    {
     "data": {
      "text/plain": [
       "0.06932755433545618"
      ]
     },
     "execution_count": 37,
     "metadata": {},
     "output_type": "execute_result"
    }
   ],
   "source": [
    "train.abserror.mean()"
   ]
  },
  {
   "cell_type": "code",
   "execution_count": null,
   "id": "0b84e2f3",
   "metadata": {},
   "outputs": [],
   "source": []
  },
  {
   "cell_type": "code",
   "execution_count": null,
   "id": "880acfda",
   "metadata": {},
   "outputs": [],
   "source": []
  },
  {
   "cell_type": "code",
   "execution_count": 40,
   "id": "e620cf4d",
   "metadata": {},
   "outputs": [
    {
     "data": {
      "text/plain": [
       "97,319.00    680\n",
       "97,318.00    568\n",
       "97,328.00    499\n",
       "97,329.00    492\n",
       "97,118.00    464\n",
       "            ... \n",
       "96,148.00      1\n",
       "97,119.00      1\n",
       "96,038.00      1\n",
       "97,092.00      1\n",
       "96,467.00      1\n",
       "Name: regionidzip, Length: 377, dtype: int64"
      ]
     },
     "execution_count": 40,
     "metadata": {},
     "output_type": "execute_result"
    }
   ],
   "source": []
  },
  {
   "cell_type": "code",
   "execution_count": null,
   "id": "cbec8037",
   "metadata": {},
   "outputs": [],
   "source": [
    "sns.relplot(data=train)"
   ]
  },
  {
   "cell_type": "code",
   "execution_count": null,
   "id": "cfd30144",
   "metadata": {},
   "outputs": [],
   "source": []
  },
  {
   "cell_type": "code",
   "execution_count": 4,
   "id": "3860296d",
   "metadata": {},
   "outputs": [],
   "source": []
  },
  {
   "cell_type": "code",
   "execution_count": 5,
   "id": "64fb8a9f",
   "metadata": {},
   "outputs": [
    {
     "data": {
      "text/plain": [
       "<AxesSubplot:>"
      ]
     },
     "execution_count": 5,
     "metadata": {},
     "output_type": "execute_result"
    },
    {
     "data": {
      "image/png": "[encoded data removed]",
      "text/plain": [
       "<Figure size 432x288 with 1 Axes>"
      ]
     },
     "metadata": {
      "needs_background": "light"
     },
     "output_type": "display_data"
    }
   ],
   "source": [
    "train.abserror.hist()"
   ]
  },
  {
   "cell_type": "code",
   "execution_count": 6,
   "id": "877b6bdc",
   "metadata": {},
   "outputs": [],
   "source": [
    "train['bigerror'] = np.where(train[\"abserror\"] > 1, 1, 0)"
   ]
  },
  {
   "cell_type": "code",
   "execution_count": 7,
   "id": "f15195e6",
   "metadata": {},
   "outputs": [],
   "source": [
    "big_error = train[train.bigerror == 1]"
   ]
  },
  {
   "cell_type": "code",
   "execution_count": 9,
   "id": "ef69d1fe",
   "metadata": {},
   "outputs": [
    {
     "data": {
      "image/png": "[encoded data removed]",
      "text/plain": [
       "<Figure size 432x288 with 1 Axes>"
      ]
     },
     "metadata": {
      "needs_background": "light"
     },
     "output_type": "display_data"
    },
    {
     "data": {
      "image/png": "[encoded data removed]",
      "text/plain": [
       "<Figure size 432x288 with 1 Axes>"
      ]
     },
     "metadata": {
      "needs_background": "light"
     },
     "output_type": "display_data"
    },
    {
     "data": {
      "image/png": "[encoded data removed]",
      "text/plain": [
       "<Figure size 432x288 with 1 Axes>"
      ]
     },
     "metadata": {
      "needs_background": "light"
     },
     "output_type": "display_data"
    },
    {
     "data": {
      "image/png": "[encoded data removed]",
      "text/plain": [
       "<Figure size 432x288 with 1 Axes>"
      ]
     },
     "metadata": {
      "needs_background": "light"
     },
     "output_type": "display_data"
    },
    {
     "data": {
      "image/png": "[encoded data removed]",
      "text/plain": [
       "<Figure size 432x288 with 1 Axes>"
      ]
     },
     "metadata": {
      "needs_background": "light"
     },
     "output_type": "display_data"
    },
    {
     "data": {
      "image/png": "[encoded data removed]",
      "text/plain": [
       "<Figure size 432x288 with 1 Axes>"
      ]
     },
     "metadata": {
      "needs_background": "light"
     },
     "output_type": "display_data"
    },
    {
     "data": {
      "image/png": "[encoded data removed]",
      "text/plain": [
       "<Figure size 432x288 with 1 Axes>"
      ]
     },
     "metadata": {
      "needs_background": "light"
     },
     "output_type": "display_data"
    },
    {
     "data": {
      "image/png": "[encoded data removed]",
      "text/plain": [
       "<Figure size 432x288 with 1 Axes>"
      ]
     },
     "metadata": {
      "needs_background": "light"
     },
     "output_type": "display_data"
    },
    {
     "data": {
      "image/png": "[encoded data removed]",
      "text/plain": [
       "<Figure size 432x288 with 1 Axes>"
      ]
     },
     "metadata": {
      "needs_background": "light"
     },
     "output_type": "display_data"
    },
    {
     "data": {
      "image/png": "[encoded data removed]",
      "text/plain": [
       "<Figure size 432x288 with 1 Axes>"
      ]
     },
     "metadata": {
      "needs_background": "light"
     },
     "output_type": "display_data"
    },
    {
     "data": {
      "image/png": "[encoded data removed]",
      "text/plain": [
       "<Figure size 432x288 with 1 Axes>"
      ]
     },
     "metadata": {
      "needs_background": "light"
     },
     "output_type": "display_data"
    },
    {
     "data": {
      "image/png": "[encoded data removed]",
      "text/plain": [
       "<Figure size 432x288 with 1 Axes>"
      ]
     },
     "metadata": {
      "needs_background": "light"
     },
     "output_type": "display_data"
    },
    {
     "data": {
      "image/png": "[encoded data removed]",
      "text/plain": [
       "<Figure size 432x288 with 1 Axes>"
      ]
     },
     "metadata": {
      "needs_background": "light"
     },
     "output_type": "display_data"
    },
    {
     "data": {
      "image/png": "[encoded data removed]",
      "text/plain": [
       "<Figure size 432x288 with 1 Axes>"
      ]
     },
     "metadata": {
      "needs_background": "light"
     },
     "output_type": "display_data"
    },
    {
     "data": {
      "image/png": "[encoded data removed]",
      "text/plain": [
       "<Figure size 432x288 with 1 Axes>"
      ]
     },
     "metadata": {
      "needs_background": "light"
     },
     "output_type": "display_data"
    },
    {
     "data": {
      "image/png": "[encoded data removed]",
      "text/plain": [
       "<Figure size 432x288 with 1 Axes>"
      ]
     },
     "metadata": {
      "needs_background": "light"
     },
     "output_type": "display_data"
    },
    {
     "data": {
      "image/png": "[encoded data removed]",
      "text/plain": [
       "<Figure size 432x288 with 1 Axes>"
      ]
     },
     "metadata": {
      "needs_background": "light"
     },
     "output_type": "display_data"
    },
    {
     "data": {
      "image/png": "[encoded data removed]",
      "text/plain": [
       "<Figure size 432x288 with 1 Axes>"
      ]
     },
     "metadata": {
      "needs_background": "light"
     },
     "output_type": "display_data"
    },
    {
     "data": {
      "image/png": "[encoded data removed]",
      "text/plain": [
       "<Figure size 432x288 with 1 Axes>"
      ]
     },
     "metadata": {
      "needs_background": "light"
     },
     "output_type": "display_data"
    },
    {
     "data": {
      "image/png": "[encoded data removed]",
      "text/plain": [
       "<Figure size 432x288 with 1 Axes>"
      ]
     },
     "metadata": {
      "needs_background": "light"
     },
     "output_type": "display_data"
    }
   ],
   "source": [
    "cols = ['bathrooms', 'bedrooms', 'sqft', 'fullbathcnt',\n",
    "       'latitude', 'garagecarcnt', 'garagesqft', 'longitude', 'lotsize',\n",
    "       'poolcnt', 'fireplacecnt', 'roomcnt',\n",
    "       'structuretaxvalue', 'taxvalue', 'landtaxvalue', 'taxamount',\n",
    "       'logerror', 'age', 'abserror', 'bigerror']\n",
    "\n",
    "for col in cols:\n",
    "    big_error[col].hist()\n",
    "    plt.title(col)\n",
    "    plt.show()"
   ]
  },
  {
   "cell_type": "code",
   "execution_count": 12,
   "id": "c28e3f24",
   "metadata": {},
   "outputs": [
    {
     "data": {
      "text/plain": [
       "count              47,013.00\n",
       "mean               96,611.88\n",
       "std                 3,721.88\n",
       "min                95,982.00\n",
       "25%                96,212.00\n",
       "50%                96,415.00\n",
       "75%                96,996.00\n",
       "max               399,675.00\n",
       "Name: regionidzip, dtype: float64"
      ]
     },
     "execution_count": 12,
     "metadata": {},
     "output_type": "execute_result"
    }
   ],
   "source": [
    "df.regionidzip.describe()"
   ]
  },
  {
   "cell_type": "code",
   "execution_count": 38,
   "id": "aa937dc5",
   "metadata": {},
   "outputs": [
    {
     "data": {
      "text/plain": [
       "23592                  34.03\n",
       "39939                  34.16\n",
       "30298                  33.91\n",
       "27701                  33.93\n",
       "7352                   34.01\n",
       "                ...         \n",
       "29985                  34.21\n",
       "27724                  33.88\n",
       "21224                  33.91\n",
       "33458                  33.60\n",
       "11863                  34.19\n",
       "Name: latitude, Length: 28189, dtype: float64"
      ]
     },
     "execution_count": 38,
     "metadata": {},
     "output_type": "execute_result"
    }
   ],
   "source": [
    "train.latitude"
   ]
  },
  {
   "cell_type": "code",
   "execution_count": null,
   "id": "fc4f2343",
   "metadata": {},
   "outputs": [],
   "source": []
  }
 ],
 "metadata": {
  "kernelspec": {
   "display_name": "Python 3 (ipykernel)",
   "language": "python",
   "name": "python3"
  },
  "language_info": {
   "codemirror_mode": {
    "name": "ipython",
    "version": 3
   },
   "file_extension": ".py",
   "mimetype": "text/x-python",
   "name": "python",
   "nbconvert_exporter": "python",
   "pygments_lexer": "ipython3",
   "version": "3.9.12"
  }
 },
 "nbformat": 4,
 "nbformat_minor": 5
}
